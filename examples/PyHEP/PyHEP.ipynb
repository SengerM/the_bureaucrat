{
 "cells": [
  {
   "cell_type": "markdown",
   "id": "2d891f03",
   "metadata": {},
   "source": [
    "# The Bureaucrat\n",
    "\n",
    "This notebook aims to present [The Bureaucrat](https://github.com/SengerM/the_bureaucrat), a package to help you dealing with the bureaucracy of storing your data consistently in a directory structure in an automated and scalable way."
   ]
  },
  {
   "cell_type": "markdown",
   "id": "366a9e9d",
   "metadata": {},
   "source": [
    "You'll need to install a few things:\n",
    "```\n",
    "pip install git+https://github.com/SengerM/the_bureaucrat\n",
    "pip install plotly\n",
    "pip install pandas\n",
    "```"
   ]
  },
  {
   "cell_type": "code",
   "execution_count": null,
   "id": "60165756",
   "metadata": {},
   "outputs": [],
   "source": [
    "# To install things just run this cell.\n",
    "%pip install git+https://github.com/SengerM/the_bureaucrat\n",
    "%pip install plotly\n",
    "%pip install pandas"
   ]
  },
  {
   "cell_type": "code",
   "execution_count": null,
   "id": "b310a95a",
   "metadata": {},
   "outputs": [],
   "source": [
    "from IPython.core.display import display, HTML\n",
    "display(HTML(\"<style>.container { width:100% !important; }</style>\"))\n",
    "%autosave 0\n",
    "\n",
    "from the_bureaucrat.bureaucrats import RunBureaucrat # pip install git+https://github.com/SengerM/the_bureaucrat\n",
    "import plotly.express as px # pip install plotly\n",
    "import pandas # pip install pandas\n",
    "from pathlib import Path\n",
    "import datetime\n",
    "import time\n",
    "import warnings\n",
    "import shutil\n",
    "\n",
    "warnings.filterwarnings(\"ignore\", message=\"Cannot create backup of script*\")\n",
    "\n",
    "def unique_timestamp():\n",
    "    time.sleep(1) # This is to ensure that no two timestamps are the same.\n",
    "    return datetime.datetime.now().strftime(\"%Y%m%d%H%M%S\")\n",
    "\n",
    "STORE_DATA_HERE_PATH = Path.home()/'deleteme'\n",
    "def clean_runs():\n",
    "    for p in STORE_DATA_HERE_PATH.iterdir():\n",
    "        shutil.rmtree(p)"
   ]
  },
  {
   "cell_type": "markdown",
   "id": "3ed20e0e",
   "metadata": {},
   "source": [
    "# Introduction\n",
    "\n",
    "- This package was designed with a tree-like structure in mind.\n",
    "- Defines two kinds of objects:\n",
    "  1. **Run**: Each node of the tree.\n",
    "  2. **Task**: Things that you do within each run.\n",
    "    - Tasks can have *sub-runs*, here arises the tree structure.\n",
    "- These objects end up being just directories in the file system in the end.\n",
    "- In the code\n",
    "  - **Run**s are handled by `RunBureaucrat` objects.\n",
    "  - **Task**s are handled by `TaskBureaucrat` objects.\n",
    "\n",
    "In an image:\n",
    "\n",
    "<img src=\"img/diagram.svg\" align=\"left\">"
   ]
  },
  {
   "cell_type": "markdown",
   "id": "39be75ca",
   "metadata": {},
   "source": [
    "## Toy system to work with\n",
    "\n",
    "Let's consider a toy example with a black box that has two inputs and one output:\n",
    "\n",
    "<img src=\"img/black_box.svg\" align=\"left\">"
   ]
  },
  {
   "cell_type": "code",
   "execution_count": null,
   "id": "7572d77e",
   "metadata": {},
   "outputs": [],
   "source": [
    "from black_box import measure_black_box"
   ]
  },
  {
   "cell_type": "markdown",
   "id": "6b76a683",
   "metadata": {},
   "source": [
    "The prototype of this toy function is \n",
    "```python\n",
    "def measure_black_box(A:float, B:float)->float:\n",
    "```"
   ]
  },
  {
   "cell_type": "markdown",
   "id": "4ec97085",
   "metadata": {},
   "source": [
    "# Basic usage\n",
    "\n",
    "First, create a `RunBureaucrat`. It is very simple:\n",
    "```python\n",
    "my_bureaucrat = RunBureaucrat(path_to_the_run)\n",
    "```\n",
    "The last part of `path_to_the_run` will be assumed to be the *name of the run*."
   ]
  },
  {
   "cell_type": "code",
   "execution_count": null,
   "id": "e6d39265",
   "metadata": {},
   "outputs": [],
   "source": [
    "run_name = f'your_favourite_name'\n",
    "John = RunBureaucrat(STORE_DATA_HERE_PATH/run_name)"
   ]
  },
  {
   "cell_type": "markdown",
   "id": "4424ab2b",
   "metadata": {},
   "source": [
    "The previous cell created a `RunBureaucrat` within Python but nothing else was done, no directory was created."
   ]
  },
  {
   "cell_type": "code",
   "execution_count": null,
   "id": "e7e2c178",
   "metadata": {},
   "outputs": [],
   "source": [
    "John.create_run()\n",
    "print(f\"The run was created in {John.path_to_run_directory}\")"
   ]
  },
  {
   "cell_type": "markdown",
   "id": "6e692807",
   "metadata": {},
   "source": [
    "A *run directory* was created. We know it is a *run directory* because there is a file `bureaucrat_run_info.txt`.\n",
    "\n",
    "Now we can perform a *Task* within this run, we ask `John` to handle it to one of his employees:"
   ]
  },
  {
   "cell_type": "code",
   "execution_count": null,
   "id": "331e2fbb",
   "metadata": {
    "scrolled": false
   },
   "outputs": [],
   "source": [
    "A = 0\n",
    "B = 0\n",
    "with John.handle_task('measure_with_constant_A_and_B') as Johns_employee:\n",
    "    measurements_result = [measure_black_box(A=A,B=A) for n in range(99)]\n",
    "    \n",
    "    measurements_df = pandas.DataFrame({'black_box_output': measurements_result})\n",
    "    measurements_df['A'] = A\n",
    "    measurements_df['B'] = B\n",
    "    \n",
    "    measurements_df.to_csv(Johns_employee.path_to_directory_of_my_task/'data.csv', index=False)\n",
    "\n",
    "print(f'Results of this task can be found in {Johns_employee.path_to_directory_of_my_task}')"
   ]
  },
  {
   "cell_type": "markdown",
   "id": "1863a048",
   "metadata": {},
   "source": [
    "In the previous cell:\n",
    "- `John` is a `RunBureaucrat` managing the *Run*, he is the boss.\n",
    "- `Johns_employee` is a `TaskBureaucrat` managing a *Task* within the *Run*, he works for `John`.\n",
    "- The `with` statement ensures that\n",
    "  1. A directory for the *Task* is created within the *Run*.\n",
    "  2. If any exception happens during the handling of this task, you (and other *bureaucrats*) will know it in the future.\n",
    "  3. If the *Task* is completed successfully, you (and other *bureaucrats*) will know it."
   ]
  },
  {
   "cell_type": "markdown",
   "id": "50443339",
   "metadata": {},
   "source": [
    "Let's now plot this data, with a new task:"
   ]
  },
  {
   "cell_type": "code",
   "execution_count": null,
   "id": "31ab5918",
   "metadata": {},
   "outputs": [],
   "source": [
    "John.check_these_tasks_were_run_successfully(['measure_with_constant_A_and_B']) # If not, this raises an error.\n",
    "\n",
    "with John.handle_task('plot_at_constant_A_and_B') as Johns_employee:\n",
    "    measured_data_df = pandas.read_csv(Johns_employee.path_to_directory_of_task('measure_with_constant_A_and_B')/'data.csv')\n",
    "    fig = px.histogram(measured_data_df, x='black_box_output')\n",
    "    fig.write_html(str(Johns_employee.path_to_directory_of_my_task/'plot.html'))\n",
    "\n",
    "print(f'Results of this task can be found in {Johns_employee.path_to_directory_of_my_task}')"
   ]
  },
  {
   "cell_type": "markdown",
   "id": "fef51d2b",
   "metadata": {},
   "source": [
    "Note how paths to files are specified: **We always ask to the respective bureaucrat for the path to somewhere** and we only add the last part."
   ]
  },
  {
   "cell_type": "markdown",
   "id": "b238f8bb",
   "metadata": {},
   "source": [
    "## What happens if there is an error during a task?\n",
    "\n",
    "Go to the cell doing the task `'measure_with_constant_A_and_B'` and purposely introduce any error inside the `with`. Then try to execute the cell with the task `'plot_at_constant_A_and_B'` and see what happens."
   ]
  },
  {
   "cell_type": "code",
   "execution_count": null,
   "id": "d0a176cb",
   "metadata": {},
   "outputs": [],
   "source": [
    "clean_runs()"
   ]
  },
  {
   "cell_type": "markdown",
   "id": "7b02035d",
   "metadata": {},
   "source": [
    "# Deeper example\n",
    "\n",
    "Let's see now how the tree-like structure can be exploited."
   ]
  },
  {
   "cell_type": "code",
   "execution_count": null,
   "id": "fa439ac6",
   "metadata": {},
   "outputs": [],
   "source": [
    "def measure_with_constant_A_and_B(bureaucrat:RunBureaucrat, A:float, B:float, n_measurements:int):\n",
    "    Alberto = bureaucrat # Let's give him a propper name.\n",
    "    with Alberto.handle_task('measure_with_constant_A_and_B') as Albertos_employee:\n",
    "        measurements_result = [measure_black_box(A=A,B=B) for n in range(n_measurements)]\n",
    "\n",
    "        measurements_df = pandas.DataFrame({'black_box_output': measurements_result})\n",
    "        measurements_df['A'] = A\n",
    "        measurements_df['B'] = B\n",
    "\n",
    "        measurements_df.to_csv(Albertos_employee.path_to_directory_of_my_task/'data.csv', index=False)\n",
    "\n",
    "def measure_sweeping_A(bureaucrat:RunBureaucrat, As:list, B:float, n_measurements:int):\n",
    "    Natalia = bureaucrat # We give her a propper name.\n",
    "    with Natalia.handle_task('measure_sweeping_A') as Natalias_employee:\n",
    "        for A in As:\n",
    "            boss_in_sub_office = Natalias_employee.create_subrun(\n",
    "                subrun_name = f'{Natalias_employee.run_name}_A{A}'\n",
    "            )\n",
    "            boss_in_sub_office.create_run()\n",
    "            measure_with_constant_A_and_B(\n",
    "                bureaucrat = boss_in_sub_office,\n",
    "                A = A,\n",
    "                B = B,\n",
    "                n_measurements = n_measurements,\n",
    "            )"
   ]
  },
  {
   "cell_type": "markdown",
   "id": "76200278",
   "metadata": {},
   "source": [
    "I have defined two functions\n",
    "1. One to measure with constant `A` and `B`.\n",
    "2. One that calls the other while sweeping `A`."
   ]
  },
  {
   "cell_type": "code",
   "execution_count": null,
   "id": "0a3abb92",
   "metadata": {},
   "outputs": [],
   "source": [
    "Matthias = RunBureaucrat(STORE_DATA_HERE_PATH/'my_run')\n",
    "Matthias.create_run()\n",
    "measure_sweeping_A(\n",
    "    bureaucrat = Matthias,\n",
    "    As = [0,1,2,3],\n",
    "    B = .8,\n",
    "    n_measurements = 99,\n",
    ")\n",
    "print(f'Find the results in {Matthias.path_to_directory_of_task(\"measure_sweeping_A\")}')"
   ]
  },
  {
   "cell_type": "markdown",
   "id": "4e91580b",
   "metadata": {},
   "source": [
    "Now let's process (well, actually just plot) the data exploiting the tree structure."
   ]
  },
  {
   "cell_type": "code",
   "execution_count": null,
   "id": "639aaf67",
   "metadata": {},
   "outputs": [],
   "source": [
    "def read_data_constant_A_and_B(bureaucrat:RunBureaucrat):\n",
    "    Pepe = bureaucrat\n",
    "    Pepe.check_these_tasks_were_run_successfully(['measure_with_constant_A_and_B'])\n",
    "    return pandas.read_csv(Pepe.path_to_directory_of_task('measure_with_constant_A_and_B')/'data.csv')\n",
    "\n",
    "def read_data_sweeping_A(bureaucrat:RunBureaucrat):\n",
    "    Nahuel = bureaucrat\n",
    "    Nahuel.check_these_tasks_were_run_successfully(['measure_sweeping_A'])\n",
    "    loaded_data = []\n",
    "    for subrun_bureaucrat in Nahuel.list_subruns_of_task('measure_sweeping_A'):\n",
    "        df = read_data_constant_A_and_B(subrun_bureaucrat)\n",
    "        loaded_data.append(df)\n",
    "    return pandas.concat(loaded_data)\n",
    "\n",
    "def plot_sweeping_A(bureaucrat:RunBureaucrat):\n",
    "    Marta = bureaucrat\n",
    "    Marta.check_these_tasks_were_run_successfully(['measure_sweeping_A'])\n",
    "    data_df = read_data_sweeping_A(Marta)\n",
    "    with Marta.handle_task('plot_sweeping_A') as Martas_employee:\n",
    "        fig = px.ecdf(data_df, x='black_box_output', color='A')\n",
    "        fig.write_html(Martas_employee.path_to_directory_of_my_task/'plot.html')"
   ]
  },
  {
   "cell_type": "markdown",
   "id": "426825ea",
   "metadata": {},
   "source": [
    "Note how each function just receives a `RunBureaucrat` and it has everything it needs to do its job."
   ]
  },
  {
   "cell_type": "code",
   "execution_count": null,
   "id": "cc63bdca",
   "metadata": {},
   "outputs": [],
   "source": [
    "plot_sweeping_A(Matthias)\n",
    "print(f'Find the results in {Matthias.path_to_directory_of_task(\"plot_sweeping_A\")}')"
   ]
  },
  {
   "cell_type": "code",
   "execution_count": null,
   "id": "f643ff6e",
   "metadata": {},
   "outputs": [],
   "source": [
    "clean_runs()"
   ]
  },
  {
   "cell_type": "markdown",
   "id": "0df8e934",
   "metadata": {},
   "source": [
    "## Yet more complexity, trivially\n",
    "\n",
    "Let's now sweep `B` too. It is very easy because we already have the functions that sweep `A`, so we just write a set of functions that sweep `B` and call the previous functions that will sweep `A`:"
   ]
  },
  {
   "cell_type": "code",
   "execution_count": null,
   "id": "fc28f1e0",
   "metadata": {},
   "outputs": [],
   "source": [
    "def measure_sweeping_A_and_B(bureaucrat:RunBureaucrat, As:list, Bs:list, n_measurements:int):\n",
    "    Natalia = bureaucrat # We give her a propper name.\n",
    "    with Natalia.handle_task('measure_sweeping_A_and_B') as Natalias_employee:\n",
    "        for B in Bs:\n",
    "            boss_in_sub_office = Natalias_employee.create_subrun(\n",
    "                subrun_name = f'{Natalias_employee.run_name}_B{B}'\n",
    "            )\n",
    "            boss_in_sub_office.create_run()\n",
    "            measure_sweeping_A(\n",
    "                bureaucrat = boss_in_sub_office,\n",
    "                As = As,\n",
    "                B = B,\n",
    "                n_measurements = n_measurements,\n",
    "            )\n",
    "\n",
    "def read_data_sweeping_A_and_B(bureaucrat:RunBureaucrat):\n",
    "    Nahuel = bureaucrat\n",
    "    Nahuel.check_these_tasks_were_run_successfully(['measure_sweeping_A_and_B'])\n",
    "    loaded_data = []\n",
    "    for subrun_bureaucrat in Nahuel.list_subruns_of_task('measure_sweeping_A_and_B'):\n",
    "        df = read_data_sweeping_A(subrun_bureaucrat)\n",
    "        loaded_data.append(df)\n",
    "    return pandas.concat(loaded_data)\n",
    "\n",
    "def plot_sweeping_A_and_B(bureaucrat:RunBureaucrat):\n",
    "    Celestino = bureaucrat\n",
    "    Celestino.check_these_tasks_were_run_successfully(['measure_sweeping_A_and_B'])\n",
    "    with Celestino.handle_task('plot_sweeping_A_and_B') as Celestinos_employee:\n",
    "        data_df = read_data_sweeping_A_and_B(Celestino)\n",
    "        fig = px.ecdf(\n",
    "            data_df,\n",
    "            x = 'black_box_output',\n",
    "            color = 'A',\n",
    "            facet_col = 'B',\n",
    "        )\n",
    "        fig.write_html(Celestinos_employee.path_to_directory_of_my_task/'plot.html')"
   ]
  },
  {
   "cell_type": "code",
   "execution_count": null,
   "id": "362a7507",
   "metadata": {},
   "outputs": [],
   "source": [
    "Matthias = RunBureaucrat(STORE_DATA_HERE_PATH/'run_sweeping_both')\n",
    "Matthias.create_run()\n",
    "measure_sweeping_A_and_B(\n",
    "    bureaucrat = Matthias,\n",
    "    As = [0,1,2,3],\n",
    "    Bs = [0,.8,1],\n",
    "    n_measurements = 99,\n",
    ")\n",
    "print(f'Find the results in {Matthias.path_to_directory_of_task(\"measure_sweeping_A_and_B\")}')"
   ]
  },
  {
   "cell_type": "code",
   "execution_count": null,
   "id": "3f482864",
   "metadata": {},
   "outputs": [],
   "source": [
    "plot_sweeping_A_and_B(Matthias)\n",
    "print(f'Find the results in {Matthias.path_to_directory_of_task(\"plot_sweeping_A_and_B\")}')"
   ]
  },
  {
   "cell_type": "code",
   "execution_count": null,
   "id": "751b8241",
   "metadata": {},
   "outputs": [],
   "source": [
    "clean_runs()"
   ]
  },
  {
   "cell_type": "markdown",
   "id": "a776bdcb",
   "metadata": {},
   "source": [
    "# Other features"
   ]
  },
  {
   "cell_type": "markdown",
   "id": "35670595",
   "metadata": {},
   "source": [
    "## Warnings when weird characters are found\n",
    "\n",
    "It will warn you if your paths contain characters that are better to avoid in order to maximize the cross-platform-ability:"
   ]
  },
  {
   "cell_type": "code",
   "execution_count": null,
   "id": "a319cb4f",
   "metadata": {},
   "outputs": [],
   "source": [
    "Ludwig = RunBureaucrat(STORE_DATA_HERE_PATH/'I have spaces and also + and ? and *')\n",
    "Ludwig.create_run()\n",
    "print(f'Run was created in {Ludwig.path_to_run_directory}')"
   ]
  },
  {
   "cell_type": "markdown",
   "id": "9c8f5f8a",
   "metadata": {},
   "source": [
    "In Windows it will for shure have problems with `*`. So Ludwig is warning us."
   ]
  },
  {
   "cell_type": "markdown",
   "id": "d8cafd08",
   "metadata": {},
   "source": [
    "## Automatic script backups\n",
    "\n",
    "Each time a task is performed, e.g. `with John.handle_task('task_name') as John_employee:`, a backup of the script file will be placed in the task folder so you can later on remember how you did things in case you forget. \n",
    "\n",
    "This feature can be disabled\n",
    "```python\n",
    "with John.handle_task('task_name', backup_this_python_file=False) as John_employee:\n",
    "    # Dos whatever you want here.\n",
    "```\n",
    "\n",
    "*Note*: At the time of writing this, this feature does not work with Jupyter Notebooks, but it does with regular scripts."
   ]
  },
  {
   "cell_type": "markdown",
   "id": "d9524a8e",
   "metadata": {},
   "source": [
    "## Automatic deletion of old data\n",
    "\n",
    "When a task is performed, by default the old data (if any) is deleted from the task directory. This ensures that when the task finishes only fresh data is present.\n",
    "\n",
    "This behavior can be changed e.g. if you want to append data just with\n",
    "```python\n",
    "with John.handle_task('task_name', drop_old_data=False) as John_employee:\n",
    "    # Do whatever you want here.\n",
    "```\n",
    "By default `drop_old_data=True`."
   ]
  },
  {
   "cell_type": "markdown",
   "id": "79e082c3",
   "metadata": {},
   "source": [
    "# Conclusions\n",
    "\n",
    "- [The Bureaucrat](https://github.com/SengerM/the_bureaucrat) provides a *pure Python* and cross platform mechanism to accomodate data and results in a tree-like structure.\n",
    "- Very flexible: It just creates a directory structure in the file system; you can then store whatever you want (automatically or manually), copy-paste parts of the tree, share, etc.\n",
    "- The underlying directory structure is encoded into *Task*s that are done within *Run*s.\n",
    "- Scalable: Thanks to its tree oriented design it is very easy to scale things up, as shown with the examples."
   ]
  },
  {
   "cell_type": "code",
   "execution_count": null,
   "id": "8fc3ab7c",
   "metadata": {},
   "outputs": [],
   "source": [
    "shutil.rmtree(STORE_DATA_HERE_PATH)"
   ]
  }
 ],
 "metadata": {
  "kernelspec": {
   "display_name": "Python 3 (ipykernel)",
   "language": "python",
   "name": "python3"
  },
  "language_info": {
   "codemirror_mode": {
    "name": "ipython",
    "version": 3
   },
   "file_extension": ".py",
   "mimetype": "text/x-python",
   "name": "python",
   "nbconvert_exporter": "python",
   "pygments_lexer": "ipython3",
   "version": "3.8.10"
  }
 },
 "nbformat": 4,
 "nbformat_minor": 5
}
